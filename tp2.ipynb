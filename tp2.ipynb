{
  "cells": [
    {
      "cell_type": "markdown",
      "metadata": {
        "id": "view-in-github",
        "colab_type": "text"
      },
      "source": [
        "<a href=\"https://colab.research.google.com/github/fedeguzani/simulador/blob/main/tp2.ipynb\" target=\"_parent\"><img src=\"https://colab.research.google.com/assets/colab-badge.svg\" alt=\"Open In Colab\"/></a>"
      ]
    },
    {
      "cell_type": "markdown",
      "id": "46c0deda-4472-4129-a11e-7f7d46a8ccb9",
      "metadata": {
        "deletable": false,
        "editable": false,
        "nbgrader": {
          "cell_type": "markdown",
          "checksum": "21c22533ebcd8be321ac0eadaf2adcbd",
          "grade": false,
          "grade_id": "Intro",
          "locked": true,
          "schema_version": 3,
          "solution": false,
          "task": false
        },
        "tags": [],
        "id": "46c0deda-4472-4129-a11e-7f7d46a8ccb9"
      },
      "source": [
        "# Mi primera red neuronal\n",
        "En este practico trabajaremos con la base de datos de MNIST. Esta base de datos consta de digitos escritos a mano. Para el final de este trabajo practico, habran implementado una red neuronal profunda que sepa reconocer cada uno de estos digitos.\n",
        "\n",
        "### Atencion! Trata de no cambiar los nombres de las variables! Recuerda que testearemos estas pruebas automaticamente."
      ]
    },
    {
      "cell_type": "markdown",
      "id": "ca8ef2b1-772d-4fca-a9dc-34b47153f2ef",
      "metadata": {
        "deletable": false,
        "editable": false,
        "nbgrader": {
          "cell_type": "markdown",
          "checksum": "4527ef5218d44d1b63f3b5c2fb55371b",
          "grade": false,
          "grade_id": "Consigna_1",
          "locked": true,
          "schema_version": 3,
          "solution": false,
          "task": false
        },
        "tags": [],
        "id": "ca8ef2b1-772d-4fca-a9dc-34b47153f2ef"
      },
      "source": [
        "## Pregunta 1\n",
        "### Importar los datos\n",
        "Lo primero que tendras que hacer es bajar la base de datos. Por suerte, esta no es una tarea demasiado dificil, ya que el mismo tensorflow la posee y podras buscar en su codigo como cargarla a memoria.\n",
        "Sin embargo, tienes que investigar como hacerlo.\n",
        "[datasets de tensorflow](https://www.tensorflow.org/api_docs/python/tf/keras/datasets)"
      ]
    },
    {
      "cell_type": "code",
      "execution_count": null,
      "id": "59c858ef-1d2d-47cc-9ed1-a1a64b7339fe",
      "metadata": {
        "deletable": false,
        "editable": false,
        "nbgrader": {
          "cell_type": "code",
          "checksum": "8ce3677cf180aa7ef2e852477f27b1c1",
          "grade": false,
          "grade_id": "Importe_tensorflow",
          "locked": true,
          "schema_version": 3,
          "solution": false,
          "task": false
        },
        "tags": [],
        "id": "59c858ef-1d2d-47cc-9ed1-a1a64b7339fe"
      },
      "outputs": [],
      "source": [
        "import tensorflow as tf\n",
        "from tensorflow import keras"
      ]
    },
    {
      "cell_type": "code",
      "execution_count": null,
      "id": "7e8a1aa6-c672-482b-b97f-686192d8c2d6",
      "metadata": {
        "deletable": false,
        "nbgrader": {
          "cell_type": "code",
          "checksum": "61dc1a81ec0da468bfd13c2723fb317e",
          "grade": false,
          "grade_id": "Primera_pregunta",
          "locked": false,
          "schema_version": 3,
          "solution": true,
          "task": false
        },
        "tags": [],
        "id": "7e8a1aa6-c672-482b-b97f-686192d8c2d6"
      },
      "outputs": [],
      "source": [
        "# Descomenta (saca la #) la proxima linea de codigo e implementa la linea\n",
        "# que bajara la base de datos mnist\n",
        " (x_train, train_labels), (x_test, test_labels) = # linea_de_codigo_aqui\n",
        "\n",
        "\n",
        "# YOUR CODE HERE\n",
        "raise NotImplementedError()"
      ]
    },
    {
      "cell_type": "code",
      "execution_count": null,
      "id": "03a0ac69-3f85-44fd-8937-5ee13a6d93b6",
      "metadata": {
        "deletable": false,
        "editable": false,
        "nbgrader": {
          "cell_type": "code",
          "checksum": "739b4db362c58fed016bb4d42c1c9daf",
          "grade": true,
          "grade_id": "Primera_prueba",
          "locked": true,
          "points": 1,
          "schema_version": 3,
          "solution": false,
          "task": false
        },
        "tags": [],
        "id": "03a0ac69-3f85-44fd-8937-5ee13a6d93b6"
      },
      "outputs": [],
      "source": [
        "# TEST CELL\n",
        "assert x_train is not None, \"No has cargado los datos de entrenamiento\"\n",
        "assert x_test is not None, \"No has cargado los datos de prueba\"\n"
      ]
    },
    {
      "cell_type": "code",
      "execution_count": null,
      "id": "7336ddcf-8861-4359-8283-bae728f5d95e",
      "metadata": {
        "deletable": false,
        "editable": false,
        "nbgrader": {
          "cell_type": "code",
          "checksum": "8cbc2defa72ec12b3bbcea93a8fa17fc",
          "grade": false,
          "grade_id": "Normalizacion",
          "locked": true,
          "schema_version": 3,
          "solution": false,
          "task": false
        },
        "tags": [],
        "id": "7336ddcf-8861-4359-8283-bae728f5d95e"
      },
      "outputs": [],
      "source": [
        "# Normalizando los datos\n",
        "x_train, x_test = x_train / 255.0, x_test / 255.0"
      ]
    },
    {
      "cell_type": "markdown",
      "id": "a2a44cd4-9fa9-4cc7-8f91-03b5cba72396",
      "metadata": {
        "deletable": false,
        "editable": false,
        "nbgrader": {
          "cell_type": "markdown",
          "checksum": "c5756b02dff559a8233c90fbcfb9a595",
          "grade": false,
          "grade_id": "Segunda_consigna",
          "locked": true,
          "schema_version": 3,
          "solution": false,
          "task": false
        },
        "tags": [],
        "id": "a2a44cd4-9fa9-4cc7-8f91-03b5cba72396"
      },
      "source": [
        "## Pregunta 2\n",
        "### Parte 2: Creación del Modelo\n",
        "\n",
        "Crea un modelo de red neuronal utilizando la API de Keras en TensorFlow. Tu modelo debería seguir la estructura siguiente:\n",
        "\n",
        "1. Una capa de aplanamiento (`Flatten`) que convierta las imágenes de 28x28 píxeles en un vector unidimensional.\n",
        "2. Una capa densa (`Dense`) con 128 neuronas y función de activación ReLU.\n",
        "3. Una capa de dropout (`Dropout`) con una tasa de 0.2, para ayudar a prevenir el sobreajuste.\n",
        "4. Una capa densa final (`Dense`) con 10 neuronas (una para cada dígito del 0 al 9) y función de activación softmax (para la clasificación multiclase).\n",
        "\n",
        "Guarda tu modelo en una variable llamada `model`.\n"
      ]
    },
    {
      "cell_type": "code",
      "execution_count": null,
      "id": "8691368b-ef37-4374-95f9-73113c93e65e",
      "metadata": {
        "deletable": false,
        "nbgrader": {
          "cell_type": "code",
          "checksum": "952b8ecc18ef0abc54509748a62ec4eb",
          "grade": false,
          "grade_id": "Segunda_pregunta",
          "locked": false,
          "schema_version": 3,
          "solution": true,
          "task": false
        },
        "tags": [],
        "id": "8691368b-ef37-4374-95f9-73113c93e65e"
      },
      "outputs": [],
      "source": [
        "\n",
        "# YOUR CODE HERE\n",
        "raise NotImplementedError()\n"
      ]
    },
    {
      "cell_type": "code",
      "execution_count": null,
      "id": "d4e93974-5411-4d48-b244-0d067c046d23",
      "metadata": {
        "deletable": false,
        "editable": false,
        "nbgrader": {
          "cell_type": "code",
          "checksum": "86b665b9028d497e44939f41693e0fb4",
          "grade": true,
          "grade_id": "Segunda_prueba",
          "locked": true,
          "points": 2,
          "schema_version": 3,
          "solution": false,
          "task": false
        },
        "tags": [],
        "id": "d4e93974-5411-4d48-b244-0d067c046d23"
      },
      "outputs": [],
      "source": [
        "# TEST CELL\n",
        "assert model is not None, \"No has creado el modelo!\"\n",
        "assert isinstance(model, tf.keras.models.Sequential), \"Tu modelo debe ser una instancia de tf.keras.models.Sequential\"\n",
        "assert len(model.layers) == 4, \"Tu modelo debe tener exactamente 4 capas\"\n"
      ]
    },
    {
      "cell_type": "code",
      "execution_count": null,
      "id": "97d6c927-0a91-4bf5-bd9a-d1650ed78d10",
      "metadata": {
        "deletable": false,
        "editable": false,
        "nbgrader": {
          "cell_type": "code",
          "checksum": "3f09a307246b15909a0a447dc6b54ab5",
          "grade": false,
          "grade_id": "Consigna_3",
          "locked": true,
          "schema_version": 3,
          "solution": false,
          "task": false
        },
        "tags": [],
        "id": "97d6c927-0a91-4bf5-bd9a-d1650ed78d10"
      },
      "outputs": [],
      "source": [
        "\n",
        "Ahora compila tu modelo utilizando el optimizador `adam` y la función de pérdida `sparse_categorical_crossentropy`. También debes monitorear la métrica de `accuracy`.\n"
      ]
    },
    {
      "cell_type": "code",
      "execution_count": null,
      "id": "55d5146b-469f-4277-bb83-66b909e161f5",
      "metadata": {
        "deletable": false,
        "nbgrader": {
          "cell_type": "code",
          "checksum": "2daa175a0c0148e9df1c8a2f97a10f81",
          "grade": false,
          "grade_id": "Tercera_pregunta",
          "locked": false,
          "schema_version": 3,
          "solution": true,
          "task": false
        },
        "tags": [],
        "id": "55d5146b-469f-4277-bb83-66b909e161f5"
      },
      "outputs": [],
      "source": [
        "\n",
        "\n",
        "# YOUR CODE HERE\n",
        "raise NotImplementedError()\n"
      ]
    },
    {
      "cell_type": "code",
      "execution_count": null,
      "id": "9175ce17-2d77-4a34-a404-ccbcaf36c3c0",
      "metadata": {
        "deletable": false,
        "editable": false,
        "nbgrader": {
          "cell_type": "code",
          "checksum": "977e1d818e1e16e3c56e66cb59e1a186",
          "grade": true,
          "grade_id": "Tercera_prueba",
          "locked": true,
          "points": 2,
          "schema_version": 3,
          "solution": false,
          "task": false
        },
        "tags": [],
        "id": "9175ce17-2d77-4a34-a404-ccbcaf36c3c0"
      },
      "outputs": [],
      "source": [
        "# TEST CELL\n",
        "assert model.optimizer is not None, \"No has configurado un optimizador para tu modelo\"\n",
        "assert model.loss is not None, \"No has configurado una función de pérdida para tu modelo\"\n",
        "assert \"accuracy\" in model.metrics_names, \"Debes monitorear la métrica 'accuracy'\"\n"
      ]
    },
    {
      "cell_type": "markdown",
      "id": "efb56789-9c72-4f55-b733-e0fb1ecb7506",
      "metadata": {
        "deletable": false,
        "editable": false,
        "nbgrader": {
          "cell_type": "markdown",
          "checksum": "553a77d005f9a81ae959f1f5f784626a",
          "grade": false,
          "grade_id": "Cuarta_consigna",
          "locked": true,
          "schema_version": 3,
          "solution": false,
          "task": false
        },
        "tags": [],
        "id": "efb56789-9c72-4f55-b733-e0fb1ecb7506"
      },
      "source": [
        "## Pregunta 3\n",
        "### Parte 3: Entrenamiento del Modelo\n",
        "\n",
        "Entrena tu modelo en los datos de entrenamiento durante al menos 5 épocas y guarda el objeto de historial devuelto por `model.fit()` en una variable llamada `history`. No olvides también proporcionar los datos de validación.\n",
        "\n"
      ]
    },
    {
      "cell_type": "code",
      "execution_count": null,
      "id": "d3dd5850-f7c7-4899-8e0a-810179c2a01d",
      "metadata": {
        "deletable": false,
        "nbgrader": {
          "cell_type": "code",
          "checksum": "495fef1c052bd20bb4841f50a8a09a5c",
          "grade": false,
          "grade_id": "Cuarta_pregunta",
          "locked": false,
          "schema_version": 3,
          "solution": true,
          "task": false
        },
        "tags": [],
        "id": "d3dd5850-f7c7-4899-8e0a-810179c2a01d"
      },
      "outputs": [],
      "source": [
        "\n",
        "# YOUR CODE HERE\n",
        "raise NotImplementedError()\n"
      ]
    },
    {
      "cell_type": "code",
      "execution_count": null,
      "id": "f4b6f14a-67ac-447d-a053-e01624d5430c",
      "metadata": {
        "deletable": false,
        "editable": false,
        "nbgrader": {
          "cell_type": "code",
          "checksum": "d5e61931badd22b71c908b5e70b7b10d",
          "grade": true,
          "grade_id": "Cuarto_test",
          "locked": true,
          "points": 3,
          "schema_version": 3,
          "solution": false,
          "task": false
        },
        "tags": [],
        "id": "f4b6f14a-67ac-447d-a053-e01624d5430c"
      },
      "outputs": [],
      "source": [
        "# TEST CELL\n",
        "assert history is not None, \"No has entrenado el modelo\"\n",
        "assert len(history.history['loss']) >= 5, \"Debes entrenar el modelo durante al menos 5 épocas\"\n",
        "\n"
      ]
    },
    {
      "cell_type": "code",
      "execution_count": null,
      "id": "515eeeb8-60b1-4a1f-be0c-03d73515f606",
      "metadata": {
        "deletable": false,
        "editable": false,
        "nbgrader": {
          "cell_type": "code",
          "checksum": "c13a34430e99dc2bfc90a50166390583",
          "grade": false,
          "grade_id": "Consigna_visualizacion",
          "locked": true,
          "schema_version": 3,
          "solution": false,
          "task": false
        },
        "tags": [],
        "id": "515eeeb8-60b1-4a1f-be0c-03d73515f606"
      },
      "outputs": [],
      "source": [
        "Una vez que tu modelo esté entrenado, visualiza la evolución de la precisión de entrenamiento y validación a lo largo de las épocas. Puedes usar `matplotlib.pyplot` para esto.\n"
      ]
    },
    {
      "cell_type": "code",
      "execution_count": null,
      "id": "3ece5bce-b417-4159-a0ba-63c4e4018a4a",
      "metadata": {
        "deletable": false,
        "nbgrader": {
          "cell_type": "code",
          "checksum": "2274dcc7ac91bdb6c30d919d5b2b0c74",
          "grade": false,
          "grade_id": "Visualizacion",
          "locked": false,
          "schema_version": 3,
          "solution": true,
          "task": false
        },
        "tags": [],
        "id": "3ece5bce-b417-4159-a0ba-63c4e4018a4a"
      },
      "outputs": [],
      "source": [
        "\n",
        "# YOUR CODE HERE\n",
        "raise NotImplementedError()\n"
      ]
    },
    {
      "cell_type": "markdown",
      "id": "e50a09ce-322b-4d5b-97f1-73601a3132c9",
      "metadata": {
        "deletable": false,
        "editable": false,
        "nbgrader": {
          "cell_type": "markdown",
          "checksum": "07dcf18097aa47d64aeb12bb05411a9b",
          "grade": false,
          "grade_id": "Ejemplo_visualizacion_mark",
          "locked": true,
          "schema_version": 3,
          "solution": false,
          "task": false
        },
        "tags": [],
        "id": "e50a09ce-322b-4d5b-97f1-73601a3132c9"
      },
      "source": [
        "Aquí te mostramos un ejemplo de cómo debería verse tu gráfico. La precisión de entrenamiento y validación deberían aumentar con el tiempo, y la precisión de validación debería ser algo menor que la de entrenamiento.\n",
        "\n",
        "Recuerda, la precisión exacta puede variar debido a la naturaleza estocástica del entrenamiento de la red neuronal, por lo que no te preocupes si tus números no coinciden exactamente con los del ejemplo.\n"
      ]
    },
    {
      "cell_type": "code",
      "execution_count": null,
      "id": "0e9235c2-8dfa-490d-b19d-fa872889cbe4",
      "metadata": {
        "deletable": false,
        "nbgrader": {
          "cell_type": "code",
          "checksum": "e169195f1ddc533b5f2d6737d588bf0b",
          "grade": true,
          "grade_id": "Ejemplo_visualizacion_nump",
          "locked": false,
          "points": 1,
          "schema_version": 3,
          "solution": true,
          "task": false
        },
        "tags": [],
        "id": "0e9235c2-8dfa-490d-b19d-fa872889cbe4"
      },
      "outputs": [],
      "source": [
        "# YOUR CODE HERE\n",
        "raise NotImplementedError()"
      ]
    },
    {
      "cell_type": "markdown",
      "id": "d4515197-c99c-417d-9626-b61c44af199c",
      "metadata": {
        "deletable": false,
        "editable": false,
        "nbgrader": {
          "cell_type": "markdown",
          "checksum": "da4147765599b53c43a9cc359a72302d",
          "grade": false,
          "grade_id": "Consigna_evaluacion",
          "locked": true,
          "schema_version": 3,
          "solution": false,
          "task": false
        },
        "tags": [],
        "id": "d4515197-c99c-417d-9626-b61c44af199c"
      },
      "source": [
        "## Pregunta 4\n",
        "### Parte 4: Evaluación del Modelo\n",
        "\n",
        "Ahora que has entrenado tu modelo, debes evaluar su rendimiento en los datos de prueba. Usa la función `model.evaluate()` para hacerlo y guarda el resultado en una variable llamada `test_loss, test_acc`.\n"
      ]
    },
    {
      "cell_type": "code",
      "execution_count": null,
      "id": "8503a9a9-7698-46e8-b7e4-bf5da9b0cdb3",
      "metadata": {
        "deletable": false,
        "nbgrader": {
          "cell_type": "code",
          "checksum": "66e52c2ca83762e709246453d302d1bc",
          "grade": false,
          "grade_id": "Pregunta_evaluacion",
          "locked": false,
          "schema_version": 3,
          "solution": true,
          "task": false
        },
        "tags": [],
        "id": "8503a9a9-7698-46e8-b7e4-bf5da9b0cdb3"
      },
      "outputs": [],
      "source": [
        "\n",
        "# YOUR CODE HERE\n",
        "raise NotImplementedError()\n"
      ]
    },
    {
      "cell_type": "code",
      "execution_count": null,
      "id": "bf398ad2-4cab-45aa-8d3e-1ba8950f6855",
      "metadata": {
        "deletable": false,
        "editable": false,
        "nbgrader": {
          "cell_type": "code",
          "checksum": "01c0fbe0d30f48a449d955a7ab456a5a",
          "grade": true,
          "grade_id": "Prueba_evaluacion",
          "locked": true,
          "points": 2,
          "schema_version": 3,
          "solution": false,
          "task": false
        },
        "tags": [],
        "id": "bf398ad2-4cab-45aa-8d3e-1ba8950f6855"
      },
      "outputs": [],
      "source": [
        "# TEST CELL\n",
        "assert test_acc is not None, \"No has evaluado el modelo en los datos de prueba\"\n",
        "assert 0 <= test_acc <= 1, \"La precisión debe estar entre 0 y 1\"\n"
      ]
    },
    {
      "cell_type": "markdown",
      "id": "b33983ba-bbcf-44bd-99b1-d84f8b827e3c",
      "metadata": {
        "deletable": false,
        "editable": false,
        "nbgrader": {
          "cell_type": "markdown",
          "checksum": "1bfb50e63b7f6462ca7e1a58c6887586",
          "grade": false,
          "grade_id": "Precision",
          "locked": true,
          "schema_version": 3,
          "solution": false,
          "task": false
        },
        "tags": [],
        "id": "b33983ba-bbcf-44bd-99b1-d84f8b827e3c"
      },
      "source": [
        "Finalmente, imprime la precisión del modelo en los datos de prueba.\n"
      ]
    },
    {
      "cell_type": "code",
      "execution_count": null,
      "id": "80db4757-cfcf-406f-91e3-fb083ff70eac",
      "metadata": {
        "deletable": false,
        "nbgrader": {
          "cell_type": "code",
          "checksum": "1071022da941b5d42448efe743e3cd62",
          "grade": true,
          "grade_id": "Imprime_precision",
          "locked": false,
          "points": 0,
          "schema_version": 3,
          "solution": true,
          "task": false
        },
        "tags": [],
        "id": "80db4757-cfcf-406f-91e3-fb083ff70eac"
      },
      "outputs": [],
      "source": [
        "\n",
        "# YOUR CODE HERE\n",
        "raise NotImplementedError()\n"
      ]
    },
    {
      "cell_type": "markdown",
      "id": "aec70f9d-434d-4519-8e26-77ce3380ea6b",
      "metadata": {
        "deletable": false,
        "editable": false,
        "nbgrader": {
          "cell_type": "markdown",
          "checksum": "a7ab1cc3a9773a782cecbd52ec82cdf9",
          "grade": false,
          "grade_id": "Consigna_parrafo",
          "locked": true,
          "schema_version": 3,
          "solution": false,
          "task": false
        },
        "tags": [],
        "id": "aec70f9d-434d-4519-8e26-77ce3380ea6b"
      },
      "source": [
        "## Pregunta 5\n",
        "### Parte 5: Interpretación de Resultados\n",
        "\n",
        "Por favor, escribe un breve párrafo en el que interpretes los resultados obtenidos. ¿Cómo evolucionó la precisión de tu modelo durante el entrenamiento? ¿Cómo se compara la precisión de entrenamiento con la de validación? ¿Estás satisfecho con la precisión del modelo en los datos de prueba?\n"
      ]
    },
    {
      "cell_type": "markdown",
      "id": "f4159f37-593a-455a-b5a0-f292d667899e",
      "metadata": {
        "deletable": false,
        "nbgrader": {
          "cell_type": "markdown",
          "checksum": "4573b4fb34e645d4a3aadd18a4914ab2",
          "grade": true,
          "grade_id": "Respuesta_teorica",
          "locked": false,
          "points": 1,
          "schema_version": 3,
          "solution": true,
          "task": false
        },
        "tags": [],
        "id": "f4159f37-593a-455a-b5a0-f292d667899e"
      },
      "source": [
        "YOUR ANSWER HERE"
      ]
    }
  ],
  "metadata": {
    "kernelspec": {
      "display_name": "Python 3 (ipykernel)",
      "language": "python",
      "name": "python3"
    },
    "language_info": {
      "codemirror_mode": {
        "name": "ipython",
        "version": 3
      },
      "file_extension": ".py",
      "mimetype": "text/x-python",
      "name": "python",
      "nbconvert_exporter": "python",
      "pygments_lexer": "ipython3",
      "version": "3.11.3"
    },
    "colab": {
      "provenance": [],
      "include_colab_link": true
    }
  },
  "nbformat": 4,
  "nbformat_minor": 5
}